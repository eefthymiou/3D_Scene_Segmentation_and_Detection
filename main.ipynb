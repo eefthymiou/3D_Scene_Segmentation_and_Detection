{
 "cells": [
  {
   "attachments": {},
   "cell_type": "markdown",
   "metadata": {},
   "source": [
    "https://docs.opencv.org/3.4/dd/d53/tutorial_py_depthmap.html"
   ]
  },
  {
   "cell_type": "code",
   "execution_count": null,
   "metadata": {},
   "outputs": [],
   "source": [
    "import numpy as np\n",
    "import cv2 \n",
    "from matplotlib import pyplot as plt"
   ]
  },
  {
   "attachments": {},
   "cell_type": "markdown",
   "metadata": {},
   "source": [
    "data found in this link\n",
    "\n",
    "https://vision.middlebury.edu/stereo/data/scenes2021/"
   ]
  },
  {
   "cell_type": "code",
   "execution_count": null,
   "metadata": {},
   "outputs": [],
   "source": [
    "left_image_path = 'data/chess2/im0.png'\n",
    "right_image_path = 'data/chess2/im1.png'\n",
    "\n",
    "\n",
    "imgL = cv2.imread(left_image_path,0)\n",
    "imgR = cv2.imread(right_image_path,0)\n",
    "\n",
    "print(imgL.shape)\n",
    "print(imgR.shape)"
   ]
  },
  {
   "cell_type": "code",
   "execution_count": null,
   "metadata": {},
   "outputs": [],
   "source": [
    "# preview left image\n",
    "plt.imshow(imgL)\n",
    "plt.show()"
   ]
  },
  {
   "cell_type": "code",
   "execution_count": null,
   "metadata": {},
   "outputs": [],
   "source": [
    "# preview right image\n",
    "plt.imshow(imgR)\n",
    "plt.show()"
   ]
  },
  {
   "cell_type": "code",
   "execution_count": null,
   "metadata": {},
   "outputs": [],
   "source": [
    "stereo = cv2.StereoBM_create(numDisparities=240, blockSize=15)\n",
    "disparity = stereo.compute(imgL,imgR)\n",
    "plt.imshow(disparity,'gray')\n",
    "plt.show()"
   ]
  },
  {
   "cell_type": "code",
   "execution_count": null,
   "metadata": {},
   "outputs": [],
   "source": []
  },
  {
   "cell_type": "code",
   "execution_count": null,
   "metadata": {},
   "outputs": [],
   "source": [
    "# save the depth map to data/tsukuba/depth_map.png\n",
    "cv2.imwrite('data/tsukuba/depth_map.png', disparity)"
   ]
  },
  {
   "cell_type": "code",
   "execution_count": null,
   "metadata": {},
   "outputs": [],
   "source": [
    "# print properties:\n",
    "print(f\"Image resolution: {disparity.shape}\")\n",
    "print(f\"Data type: {disparity.dtype}\")\n",
    "print(f\"Min value: {np.min(disparity)}\")\n",
    "print(f\"Max value: {np.max(disparity)}\")"
   ]
  },
  {
   "cell_type": "code",
   "execution_count": null,
   "metadata": {},
   "outputs": [],
   "source": [
    "# count the negative values\n",
    "print(f\"Number of negative values: {np.sum(disparity < 0)}\")\n",
    "# count the positive values\n",
    "print(f\"Number of positive values: {np.sum(disparity > 0)}\")"
   ]
  },
  {
   "cell_type": "code",
   "execution_count": null,
   "metadata": {},
   "outputs": [],
   "source": [
    "# set the values between 0 and 255\n",
    "disparity2 = (disparity - np.min(disparity)) / (np.max(disparity) - np.min(disparity)) * 255"
   ]
  },
  {
   "cell_type": "code",
   "execution_count": null,
   "metadata": {},
   "outputs": [],
   "source": [
    "# print properties:\n",
    "print(f\"Image resolution: {disparity2.shape}\")\n",
    "print(f\"Data type: {disparity2.dtype}\")\n",
    "print(f\"Min value: {np.min(disparity2)}\")\n",
    "print(f\"Max value: {np.max(disparity2)}\")"
   ]
  },
  {
   "cell_type": "code",
   "execution_count": null,
   "metadata": {},
   "outputs": [],
   "source": [
    "# show the new depth map\n",
    "plt.imshow(disparity2,'gray')"
   ]
  },
  {
   "cell_type": "code",
   "execution_count": null,
   "metadata": {},
   "outputs": [],
   "source": []
  }
 ],
 "metadata": {
  "kernelspec": {
   "display_name": "Python 3",
   "language": "python",
   "name": "python3"
  },
  "language_info": {
   "codemirror_mode": {
    "name": "ipython",
    "version": 3
   },
   "file_extension": ".py",
   "mimetype": "text/x-python",
   "name": "python",
   "nbconvert_exporter": "python",
   "pygments_lexer": "ipython3",
   "version": "3.9.16"
  },
  "orig_nbformat": 4
 },
 "nbformat": 4,
 "nbformat_minor": 2
}
