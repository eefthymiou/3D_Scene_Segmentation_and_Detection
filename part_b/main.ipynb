{
 "cells": [
  {
   "cell_type": "code",
   "execution_count": 20,
   "metadata": {},
   "outputs": [],
   "source": [
    "import numpy as np\n",
    "import utility_b as U"
   ]
  },
  {
   "cell_type": "code",
   "execution_count": 21,
   "metadata": {},
   "outputs": [
    {
     "name": "stdout",
     "output_type": "stream",
     "text": [
      "(91126, 3)\n",
      "(91126, 3)\n"
     ]
    }
   ],
   "source": [
    "# load pointcloud\n",
    "vertices = np.load('../pointcloud/gt_vertices.npy')\n",
    "colors = np.load('../pointcloud/gt_colors.npy')\n",
    "# vertices = np.load(\"../pointcloud/outlier_vertices.npy\")\n",
    "# colors = np.load(\"../pointcloud/outlier_colors.npy\")\n",
    "\n",
    "print(vertices.shape)\n",
    "print(colors.shape)"
   ]
  },
  {
   "attachments": {},
   "cell_type": "markdown",
   "metadata": {},
   "source": [
    "Αλγόριθμος RANSAC\n",
    "\n",
    "1. Επίλεξε τυχαία τον ελάχιστον αριθμό σημείων που απαιτοούνται για τον προσδιορισμό των παραμέτρων του μοντέλου.\n",
    "2. Λύσε το πρόβλημα με τις παραμέτρους του μοντέλου.\n",
    "3. Προσδιόρισε πόσα σημεία από το σύνολο όλων των σημείων ταιριάζουν με μια προκαθορισμένη ανοχή.\n",
    "4. Εαν το κλάσμα του πλήθος των outliers δια το πλήθος όλων των σημείων υπερβαίνει ένα προκαθορισμένο όριο t, επίλεξε νέες παραμέτρους βάση των inliers.\n",
    "5. Διαφορετικά, επανέλαβε τα βήματα 1 - 4 (το πολύ Ν φορές)\n",
    "\n",
    "inliers -> σημεία του plane που θέλουμε να βρούμε ώστε να τα αφαιρέσουμε\n",
    "outlier -> σημεία που δεν ανήκουν σε κάποιο plane"
   ]
  },
  {
   "cell_type": "code",
   "execution_count": 23,
   "metadata": {},
   "outputs": [
    {
     "name": "stderr",
     "output_type": "stream",
     "text": [
      "/Users/johnefthymiou/Documents/university/8th_semester/3D/3D_Scene_Segmentation_and_Detection/part_b/utility_b.py:54: RuntimeWarning: divide by zero encountered in double_scalars\n",
      "  slope1 = (points[1, 1] - points[0, 1]) / (points[1, 0] - points[0, 0])\n"
     ]
    },
    {
     "name": "stdout",
     "output_type": "stream",
     "text": [
      "inlier points shape:  (13174, 3)\n",
      "inlier colors shape:  (13174, 3)\n",
      "outlier points shape:  (42000, 3)\n",
      "outlier colors shape:  (42000, 3)\n",
      "inliers: 10543 variance: 0.11771006255167597 per cent mean color: 0.8023333017167789 cost: 3411.0477006953006\n",
      "inliers: 6215 variance: 0.24164498712266047 per cent mean color: 0.3827835880933226 cost: 1531.7475389322717\n",
      "inliers: 8147 variance: 0.04389488103975414 per cent mean color: 0.8962808395728489 cost: 1182.6245543864043\n",
      "inliers: 7055 variance: 0.3119905581336497 per cent mean color: 0.2861800141743444 cost: 875.3915983552358\n",
      "inliers: 7295 variance: 0.2651866356009137 per cent mean color: 0.3411925976696367 cost: 523.3934417244047\n",
      "inliers: 7307 variance: 0.21071530251415602 per cent mean color: 0.37963596551252227 cost: 409.1872707017971\n",
      "inliers: 7418 variance: 0.17675233249256245 per cent mean color: 0.6566459962253977 cost: 190.7381615897561\n",
      "inlier points shape:  (7418, 3)\n",
      "inlier colors shape:  (7418, 3)\n",
      "outlier points shape:  (34582, 3)\n",
      "outlier colors shape:  (34582, 3)\n"
     ]
    }
   ],
   "source": [
    "n_iterations = 1200\n",
    "# threashold for graound trouth will be 150\n",
    "# threashold for my pointcloud will be 20\n",
    "\n",
    "threshold_distance = 150  # Define a threshold distance to consider a point as an inlier\n",
    "\n",
    "total_inlier_points = np.array([])\n",
    "total_inlier_colors = np.array([])\n",
    "total_outlier_points = np.array([])\n",
    "total_outlier_colors = np.array([])\n",
    "\n",
    "# Run the RANSAC algorithm\n",
    "\n",
    "best_plane, best_inliers = U.ransac_plane_fit(vertices, n_iterations, threshold_distance)\n",
    "\n",
    "# Access the best fit plane coefficients\n",
    "# a, b, c, d = best_plane\n",
    "\n",
    "# Access the inlier points from the point cloud\n",
    "inlier_points = vertices[best_inliers]\n",
    "inlier_colors = colors[best_inliers]\n",
    "print(\"inlier points shape: \", inlier_points.shape)\n",
    "print(\"inlier colors shape: \", inlier_colors.shape)\n",
    "\n",
    "# Access the outlier points from the point cloud\n",
    "outliers_indecies = np.delete(np.arange(vertices.shape[0]), best_inliers)\n",
    "outlier_points = vertices[outliers_indecies]\n",
    "outlier_colors = colors[outliers_indecies]\n",
    "print(\"outlier points shape: \", outlier_points.shape)\n",
    "print(\"outlier colors shape: \", outlier_colors.shape)\n",
    "\n",
    "# append each point to total points\n",
    "total_inlier_points = inlier_points\n",
    "total_inlier_colors = inlier_colors\n",
    "total_outlier_points = outlier_points\n",
    "total_outlier_colors = outlier_colors\n",
    "\n",
    "n_iterations = 1200\n",
    "threshold_distance = 2000\n",
    "threshold_color = 0.3\n",
    "vertices = outlier_points\n",
    "colors = outlier_colors\n",
    "best_inliers = U.ransac_line_fit(vertices, colors, n_iterations, threshold_distance, threshold_color)\n",
    "\n",
    "# Access the inlier points from the point cloud\n",
    "inlier_points = vertices[best_inliers]\n",
    "inlier_colors = colors[best_inliers]\n",
    "print(\"inlier points shape: \", inlier_points.shape)\n",
    "print(\"inlier colors shape: \", inlier_colors.shape)\n",
    "\n",
    "# Access the outlier points from the point cloud\n",
    "outliers_indecies = np.delete(np.arange(vertices.shape[0]), best_inliers)\n",
    "outlier_points = vertices[outliers_indecies]\n",
    "outlier_colors = colors[outliers_indecies]\n",
    "print(\"outlier points shape: \", outlier_points.shape)\n",
    "print(\"outlier colors shape: \", outlier_colors.shape)\n",
    "\n",
    "total_inlier_points = np.vstack((total_inlier_points, inlier_points))\n",
    "total_inlier_colors = np.vstack((total_inlier_colors, inlier_colors))\n",
    "total_outlier_points = outlier_points\n",
    "total_outlier_colors = outlier_colors\n",
    "\n",
    "\n",
    "# save inlier points and colors\n",
    "np.save('../pointcloud/inlier_vertices2.npy', total_inlier_points)\n",
    "np.save('../pointcloud/inlier_colors2.npy', total_inlier_colors)\n",
    "\n",
    "# save outlier points and colors\n",
    "np.save('../pointcloud/outlier_vertices2.npy', total_outlier_points)\n",
    "np.save('../pointcloud/outlier_colors2.npy', total_outlier_colors)\n",
    "\n"
   ]
  }
 ],
 "metadata": {
  "kernelspec": {
   "display_name": "compgeo",
   "language": "python",
   "name": "python3"
  },
  "language_info": {
   "codemirror_mode": {
    "name": "ipython",
    "version": 3
   },
   "file_extension": ".py",
   "mimetype": "text/x-python",
   "name": "python",
   "nbconvert_exporter": "python",
   "pygments_lexer": "ipython3",
   "version": "3.9.16"
  },
  "orig_nbformat": 4
 },
 "nbformat": 4,
 "nbformat_minor": 2
}
