{
 "cells": [
  {
   "cell_type": "code",
   "execution_count": 41,
   "metadata": {},
   "outputs": [],
   "source": [
    "import numpy as np\n",
    "import utility_b as U"
   ]
  },
  {
   "attachments": {},
   "cell_type": "markdown",
   "metadata": {},
   "source": [
    "Αλγόριθμος RANSAC\n",
    "\n",
    "1. Επίλεξε τυχαία τον ελάχιστον αριθμό σημείων που απαιτοούνται για τον προσδιορισμό των παραμέτρων του μοντέλου.\n",
    "2. Λύσε το πρόβλημα με τις παραμέτρους του μοντέλου.\n",
    "3. Προσδιόρισε πόσα σημεία από το σύνολο όλων των σημείων ταιριάζουν με μια προκαθορισμένη ανοχή.\n",
    "4. Εαν το κλάσμα του πλήθος των outliers δια το πλήθος όλων των σημείων υπερβαίνει ένα προκαθορισμένο όριο t, επίλεξε νέες παραμέτρους βάση των inliers.\n",
    "5. Διαφορετικά, επανέλαβε τα βήματα 1 - 4 (το πολύ Ν φορές)\n",
    "\n",
    "inliers -> σημεία του plane που θέλουμε να βρούμε ώστε να τα αφαιρέσουμε\n",
    "outlier -> σημεία που δεν ανήκουν σε κάποιο plane"
   ]
  },
  {
   "cell_type": "code",
   "execution_count": 42,
   "metadata": {},
   "outputs": [
    {
     "name": "stdout",
     "output_type": "stream",
     "text": [
      "(91126, 3)\n",
      "(91126, 3)\n"
     ]
    }
   ],
   "source": [
    "# load pointcloud\n",
    "vertices = np.load('../pointcloud/gt_vertices.npy')\n",
    "colors = np.load('../pointcloud/gt_colors.npy')\n",
    "\n",
    "print(vertices.shape)\n",
    "print(colors.shape)"
   ]
  },
  {
   "cell_type": "code",
   "execution_count": 43,
   "metadata": {},
   "outputs": [
    {
     "name": "stdout",
     "output_type": "stream",
     "text": [
      "inlier points shape:  (35905, 3)\n",
      "inlier colors shape:  (35905, 3)\n",
      "outlier points shape:  (55221, 3)\n",
      "outlier colors shape:  (55221, 3)\n",
      "inlier points shape:  (7290, 3)\n",
      "inlier colors shape:  (7290, 3)\n",
      "outlier points shape:  (47931, 3)\n",
      "outlier colors shape:  (47931, 3)\n"
     ]
    }
   ],
   "source": [
    "# ===================== GRAOUND TROUTH POINTCLOUD =====================\n",
    "n_iterations = 1200\n",
    "# threashold for graound trouth will be 150\n",
    "# threashold for my pointcloud will be 20\n",
    "\n",
    "threshold_distance = 150  # Define a threshold distance to consider a point as an inlier\n",
    "\n",
    "total_inlier_points = np.array([])\n",
    "total_inlier_colors = np.array([])\n",
    "total_outlier_points = np.array([])\n",
    "total_outlier_colors = np.array([])\n",
    "\n",
    "# Run the RANSAC algorithm\n",
    "\n",
    "best_plane, best_inliers = U.ransac_plane_fit(vertices, n_iterations, threshold_distance)\n",
    "\n",
    "# Access the best fit plane coefficients\n",
    "# a, b, c, d = best_plane\n",
    "\n",
    "# Access the inlier points from the point cloud\n",
    "inlier_points = vertices[best_inliers]\n",
    "inlier_colors = colors[best_inliers]\n",
    "print(\"inlier points shape: \", inlier_points.shape)\n",
    "print(\"inlier colors shape: \", inlier_colors.shape)\n",
    "\n",
    "# Access the outlier points from the point cloud\n",
    "outliers_indecies = np.delete(np.arange(vertices.shape[0]), best_inliers)\n",
    "outlier_points = vertices[outliers_indecies]\n",
    "outlier_colors = colors[outliers_indecies]\n",
    "print(\"outlier points shape: \", outlier_points.shape)\n",
    "print(\"outlier colors shape: \", outlier_colors.shape)\n",
    "\n",
    "# append each point to total points\n",
    "total_inlier_points = inlier_points\n",
    "total_inlier_colors = inlier_colors\n",
    "total_outlier_points = outlier_points\n",
    "total_outlier_colors = outlier_colors\n",
    "\n",
    "n_iterations = 1200\n",
    "threshold_distance = 2000\n",
    "threshold_color = 0.3\n",
    "vertices = outlier_points\n",
    "colors = outlier_colors\n",
    "best_inliers = U.ransac_line_fit(vertices, colors, n_iterations, threshold_distance, threshold_color)\n",
    "\n",
    "# Access the inlier points from the point cloud\n",
    "inlier_points = vertices[best_inliers]\n",
    "inlier_colors = colors[best_inliers]\n",
    "print(\"inlier points shape: \", inlier_points.shape)\n",
    "print(\"inlier colors shape: \", inlier_colors.shape)\n",
    "\n",
    "# Access the outlier points from the point cloud\n",
    "outliers_indecies = np.delete(np.arange(vertices.shape[0]), best_inliers)\n",
    "outlier_points = vertices[outliers_indecies]\n",
    "outlier_colors = colors[outliers_indecies]\n",
    "print(\"outlier points shape: \", outlier_points.shape)\n",
    "print(\"outlier colors shape: \", outlier_colors.shape)\n",
    "\n",
    "total_inlier_points = np.vstack((total_inlier_points, inlier_points))\n",
    "total_inlier_colors = np.vstack((total_inlier_colors, inlier_colors))\n",
    "total_outlier_points = outlier_points\n",
    "total_outlier_colors = outlier_colors\n",
    "\n",
    "# save inlier points and colors\n",
    "np.save('../pointcloud/gt_planes.npy', total_inlier_points)\n",
    "np.save('../pointcloud/gt_planes_colors.npy', total_inlier_colors)\n",
    "\n",
    "# save outlier points and colors\n",
    "np.save('../pointcloud/gt_objects.npy', total_outlier_points)\n",
    "np.save('../pointcloud/gt_objects_colors.npy', total_outlier_colors)\n"
   ]
  },
  {
   "cell_type": "code",
   "execution_count": 49,
   "metadata": {},
   "outputs": [
    {
     "name": "stdout",
     "output_type": "stream",
     "text": [
      "(158445, 3)\n",
      "(158445, 3)\n"
     ]
    }
   ],
   "source": [
    "# load my pointcloud\n",
    "vertices = np.load('../pointcloud/vertices.npy')\n",
    "colors = np.load('../pointcloud/colors.npy')\n",
    "\n",
    "print(vertices.shape)\n",
    "print(colors.shape)"
   ]
  },
  {
   "cell_type": "code",
   "execution_count": 50,
   "metadata": {},
   "outputs": [
    {
     "name": "stderr",
     "output_type": "stream",
     "text": [
      "/Users/johnefthymiou/Documents/university/8th_semester/3D/3D_Scene_Segmentation_and_Detection/part_b/utility_b.py:56: RuntimeWarning: divide by zero encountered in double_scalars\n",
      "  slope3 = (points[2, 1] - points[0, 1]) / (points[2, 0] - points[0, 0])\n"
     ]
    },
    {
     "name": "stdout",
     "output_type": "stream",
     "text": [
      "inlier points shape:  (51054, 3)\n",
      "inlier colors shape:  (51054, 3)\n",
      "outlier points shape:  (107391, 3)\n",
      "outlier colors shape:  (107391, 3)\n",
      "possible neighbor inlier points after color comparison: (89638,)\n",
      "neighbors_inlier_indicies shape:  (2829,)\n"
     ]
    }
   ],
   "source": [
    "# ===================== MY POINTCLOUD =====================\n",
    "\n",
    "# wall plane\n",
    "n_iterations = 1200\n",
    "\n",
    "threshold_distance = 35  # Define a threshold distance to consider a point as an inlier\n",
    "\n",
    "total_inlier_points = []\n",
    "total_inlier_colors = []\n",
    "\n",
    "\n",
    "# Run the RANSAC algorithm\n",
    "best_plane, best_inliers = U.ransac_plane_fit(vertices, n_iterations, threshold_distance)\n",
    "\n",
    "# Access the inlier points from the point cloud\n",
    "inlier_points = vertices[best_inliers]\n",
    "inlier_colors = colors[best_inliers]\n",
    "print(\"inlier points shape: \", inlier_points.shape)\n",
    "print(\"inlier colors shape: \", inlier_colors.shape)\n",
    "\n",
    "\n",
    "total_inlier_points = inlier_points\n",
    "total_inlier_colors = inlier_colors\n",
    "\n",
    "\n",
    "# Access the outlier points from the point cloud\n",
    "outliers_indecies = np.delete(np.arange(vertices.shape[0]), best_inliers)\n",
    "outlier_points = vertices[outliers_indecies]\n",
    "outlier_colors = colors[outliers_indecies]\n",
    "print(\"outlier points shape: \", outlier_points.shape)\n",
    "print(\"outlier colors shape: \", outlier_colors.shape)\n",
    "\n",
    "\n",
    "n_iterations = 50\n",
    "threshold_distance = 200\n",
    "color_threshold_distance = 0.6\n",
    "neighbors_inlier_indicies, outlier_points, outlier_colors = U.neighbors_inlier(total_inlier_points,outlier_points,total_inlier_colors, outlier_colors, n_iterations, threshold_distance, color_threshold_distance)\n",
    "print(\"neighbors_inlier_indicies shape: \", neighbors_inlier_indicies.shape)\n",
    "\n",
    "# append each point to total points\n",
    "neighbors_inlier = outlier_points[neighbors_inlier_indicies]\n",
    "neighbors_inlier_colors = outlier_colors[neighbors_inlier_indicies]\n",
    "\n",
    "# # trasnfom best inlier color to red \n",
    "# inlier_colors[:,0] = 1\n",
    "# inlier_colors[:,1] = 0\n",
    "# inlier_colors[:,2] = 0\n",
    "\n",
    "# # transform neightbours inlier color to green\n",
    "# neighbors_inlier_colors[:,0] = 0\n",
    "# neighbors_inlier_colors[:,1] = 1\n",
    "# neighbors_inlier_colors[:,2] = 0\n",
    "\n",
    "total_inlier_points = np.vstack((total_inlier_points, neighbors_inlier))\n",
    "total_inlier_colors = np.vstack((total_inlier_colors, neighbors_inlier_colors))\n",
    "\n",
    "outlier_points = np.delete(outlier_points, neighbors_inlier_indicies, axis=0)\n",
    "outlier_colors = np.delete(outlier_colors, neighbors_inlier_indicies, axis=0)\n",
    "\n",
    "\n",
    "# road plane\n",
    "# threshold_distance = 10\n",
    "# n_iterations = 1200\n",
    "# vertices = outlier_points\n",
    "# best_plane, best_inliers = U.ransac_plane_fit(vertices, n_iterations, threshold_distance)\n",
    "\n",
    "# # Access the inlier points from the point cloud\n",
    "# inlier_points = vertices[best_inliers]\n",
    "# inlier_colors = colors[best_inliers]\n",
    "# print(\"inlier points shape: \", inlier_points.shape)\n",
    "# print(\"inlier colors shape: \", inlier_colors.shape)\n",
    "\n",
    "# total_inlier_points = np.vstack((total_inlier_points, inlier_points))\n",
    "# total_inlier_colors = np.vstack((total_inlier_colors, inlier_colors))\n",
    "\n",
    "# outlier_points = np.delete(outlier_points, best_inliers, axis=0)\n",
    "# outlier_colors = np.delete(outlier_colors, best_inliers, axis=0)\n",
    "\n",
    "# # save inlier points and colors\n",
    "np.save('../pointcloud/my_planes.npy', total_inlier_points)\n",
    "np.save('../pointcloud/my_planes_colors.npy', total_inlier_colors)\n",
    "\n",
    "# save outlier points and colors\n",
    "np.save('../pointcloud/my_objects.npy', outlier_points)\n",
    "np.save('../pointcloud/my_objects_colors.npy', outlier_colors)"
   ]
  }
 ],
 "metadata": {
  "kernelspec": {
   "display_name": "compgeo",
   "language": "python",
   "name": "python3"
  },
  "language_info": {
   "codemirror_mode": {
    "name": "ipython",
    "version": 3
   },
   "file_extension": ".py",
   "mimetype": "text/x-python",
   "name": "python",
   "nbconvert_exporter": "python",
   "pygments_lexer": "ipython3",
   "version": "3.9.16"
  },
  "orig_nbformat": 4
 },
 "nbformat": 4,
 "nbformat_minor": 2
}
