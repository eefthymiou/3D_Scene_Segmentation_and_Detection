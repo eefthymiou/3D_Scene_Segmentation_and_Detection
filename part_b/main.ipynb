{
 "cells": [
  {
   "cell_type": "code",
   "execution_count": null,
   "metadata": {},
   "outputs": [],
   "source": [
    "import numpy as np\n",
    "import utility_b as U"
   ]
  },
  {
   "cell_type": "code",
   "execution_count": null,
   "metadata": {},
   "outputs": [],
   "source": [
    "# load pointcloud\n",
    "vertices = np.load('../pointcloud/gt_vertices.npy')\n",
    "colors = np.load('../pointcloud/gt_colors.npy')"
   ]
  },
  {
   "attachments": {},
   "cell_type": "markdown",
   "metadata": {},
   "source": [
    "Αλγόριθμος RANSAC\n",
    "\n",
    "1. Επίλεξε τυχαία τον ελάχιστον αριθμό σημείων που απαιτοούνται για τον προσδιορισμό των παραμέτρων του μοντέλου.\n",
    "2. Λύσε το πρόβλημα με τις παραμέτρους του μοντέλου.\n",
    "3. Προσδιόρισε πόσα σημεία από το σύνολο όλων των σημείων ταιριάζουν με μια προκαθορισμένη ανοχή.\n",
    "4. Εαν το κλάσμα του πλήθος των outliers δια το πλήθος όλων των σημείων υπερβαίνει ένα προκαθορισμένο όριο t, επίλεξε νέες παραμέτρους βάση των inliers.\n",
    "5. Διαφορετικά, επανέλαβε τα βήματα 1 - 4 (το πολύ Ν φορές)\n",
    "\n",
    "inliers -> σημεία του plane που θέλουμε να βρούμε ώστε να τα αφαιρέσουμε\n",
    "outlier -> σημεία που δεν ανήκουν σε κάποιο plane"
   ]
  },
  {
   "cell_type": "code",
   "execution_count": null,
   "metadata": {},
   "outputs": [],
   "source": [
    "# Example usage:\n",
    "# Assuming you have a point cloud represented as a numpy array 'point_cloud' with shape (N, 3)\n",
    "n_iterations = 10000\n",
    "# threashold for graound trouth will be 150\n",
    "# threashold for my pointcloud will be 20\n",
    "\n",
    "threshold_distance = 150  # Define a threshold distance to consider a point as an inlier\n",
    "\n",
    "total_inlier_points = np.array([])\n",
    "total_inlier_colors = np.array([])\n",
    "total_outlier_points = np.array([])\n",
    "total_outlier_colors = np.array([])\n",
    "\n",
    "# Run the RANSAC algorithm\n",
    "for i in range(2):\n",
    "\n",
    "    best_plane, best_inliers = U.ransac_plane_fit(vertices, n_iterations, threshold_distance)\n",
    "\n",
    "    # Access the best fit plane coefficients\n",
    "    a, b, c, d = best_plane\n",
    "\n",
    "    # Access the inlier points from the point cloud\n",
    "    inlier_points = vertices[best_inliers]\n",
    "    inlier_colors = colors[best_inliers]\n",
    "    print(\"inlier points shape: \", inlier_points.shape)\n",
    "    print(\"inlier colors shape: \", inlier_colors.shape)\n",
    "\n",
    "    # Access the outlier points from the point cloud\n",
    "    outliers_indecies = np.delete(np.arange(vertices.shape[0]), best_inliers)\n",
    "    outlier_points = vertices[outliers_indecies]\n",
    "    outlier_colors = colors[outliers_indecies]\n",
    "    print(\"outlier points shape: \", outlier_points.shape)\n",
    "    print(\"outlier colors shape: \", outlier_colors.shape)\n",
    "\n",
    "    # add points to total points\n",
    "    total_inlier_points = np.append(total_inlier_points, inlier_points)\n",
    "    total_inlier_colors = np.append(total_inlier_colors, inlier_colors)\n",
    "    total_outlier_points = np.append(total_outlier_points, outlier_points)\n",
    "    total_outlier_colors = np.append(total_outlier_colors, outlier_colors)\n",
    "\n",
    "    vertices = outlier_points\n",
    "    colors = outlier_colors\n",
    "\n",
    "# save inlier points and colors\n",
    "np.save('../pointcloud/inlier_vertices.npy', total_inlier_points)\n",
    "np.save('../pointcloud/inlier_colors.npy', total_inlier_colors)\n",
    "\n",
    "# save outlier points and colors\n",
    "np.save('../pointcloud/outlier_vertices.npy', total_outlier_points)\n",
    "np.save('../pointcloud/outlier_colors.npy', total_outlier_colors)\n"
   ]
  }
 ],
 "metadata": {
  "kernelspec": {
   "display_name": "compgeo",
   "language": "python",
   "name": "python3"
  },
  "language_info": {
   "codemirror_mode": {
    "name": "ipython",
    "version": 3
   },
   "file_extension": ".py",
   "mimetype": "text/x-python",
   "name": "python",
   "nbconvert_exporter": "python",
   "pygments_lexer": "ipython3",
   "version": "3.9.16"
  },
  "orig_nbformat": 4
 },
 "nbformat": 4,
 "nbformat_minor": 2
}
