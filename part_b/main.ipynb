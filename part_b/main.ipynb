{
 "cells": [
  {
   "cell_type": "code",
   "execution_count": 422,
   "metadata": {},
   "outputs": [],
   "source": [
    "import numpy as np\n",
    "import utility_b as U\n",
    "import os"
   ]
  },
  {
   "cell_type": "code",
   "execution_count": 423,
   "metadata": {},
   "outputs": [
    {
     "name": "stdout",
     "output_type": "stream",
     "text": [
      "(91126, 3)\n",
      "(91126, 3)\n"
     ]
    }
   ],
   "source": [
    "# load pointcloud\n",
    "vertices = np.load('../pointcloud/gt_vertices.npy')\n",
    "colors = np.load('../pointcloud/gt_colors.npy')\n",
    "\n",
    "print(vertices.shape)\n",
    "print(colors.shape)"
   ]
  },
  {
   "cell_type": "code",
   "execution_count": 424,
   "metadata": {},
   "outputs": [
    {
     "name": "stderr",
     "output_type": "stream",
     "text": [
      "/Users/johnefthymiou/Documents/university/8th_semester/3D/3D_Scene_Segmentation_and_Detection/part_b/utility_b.py:56: RuntimeWarning: divide by zero encountered in double_scalars\n",
      "  slope1 = (points[1, 1] - points[0, 1]) / (points[1, 0] - points[0, 0])\n",
      "/Users/johnefthymiou/Documents/university/8th_semester/3D/3D_Scene_Segmentation_and_Detection/part_b/utility_b.py:57: RuntimeWarning: divide by zero encountered in double_scalars\n",
      "  slope2 = (points[2, 1] - points[1, 1]) / (points[2, 0] - points[1, 0])\n"
     ]
    },
    {
     "name": "stdout",
     "output_type": "stream",
     "text": [
      "inlier points shape:  (35915, 3)\n",
      "inlier colors shape:  (35915, 3)\n",
      "outlier points shape:  (55211, 3)\n",
      "outlier colors shape:  (55211, 3)\n",
      "inlier points shape:  (35915, 3)\n",
      "inlier colors shape:  (35915, 3)\n",
      "outlier points shape:  (47882, 3)\n",
      "outlier colors shape:  (47882, 3)\n"
     ]
    }
   ],
   "source": [
    "# ===================== GRAOUND TROUTH POINTCLOUD =====================\n",
    "n_iterations = 1200\n",
    "# threashold for graound trouth will be 150\n",
    "# threashold for my pointcloud will be 20\n",
    "\n",
    "threshold_distance = 150  # Define a threshold distance to consider a point as an inlier\n",
    "\n",
    "gt_total_inlier_points = np.array([])\n",
    "gt_total_inlier_colors = np.array([])\n",
    "gt_total_outlier_points = np.array([])\n",
    "gt_total_outlier_colors = np.array([])\n",
    "\n",
    "# Run the RANSAC algorithm\n",
    "\n",
    "best_plane, best_inliers = U.ransac_plane_fit(vertices, n_iterations, threshold_distance)\n",
    "\n",
    "# Access the best fit plane coefficients\n",
    "# a, b, c, d = best_plane\n",
    "\n",
    "# Access the inlier points from the point cloud\n",
    "gt_inlier_points = vertices[best_inliers]\n",
    "gt_inlier_colors = colors[best_inliers]\n",
    "print(\"inlier points shape: \", gt_inlier_points.shape)\n",
    "print(\"inlier colors shape: \", gt_inlier_colors.shape)\n",
    "\n",
    "# Access the outlier points from the point cloud\n",
    "gt_outliers_indecies = np.delete(np.arange(vertices.shape[0]), best_inliers)\n",
    "gt_outlier_points = vertices[gt_outliers_indecies]\n",
    "gt_outlier_colors = colors[gt_outliers_indecies]\n",
    "print(\"outlier points shape: \", gt_outlier_points.shape)\n",
    "print(\"outlier colors shape: \", gt_outlier_colors.shape)\n",
    "\n",
    "# append each point to total points\n",
    "gt_total_inlier_points = gt_inlier_points\n",
    "gt_total_inlier_colors = gt_inlier_colors\n",
    "gt_total_outlier_points = gt_outlier_points\n",
    "gt_total_outlier_colors = gt_outlier_colors\n",
    "\n",
    "n_iterations = 1200\n",
    "threshold_distance = 2000\n",
    "threshold_color = 0.3\n",
    "vertices = gt_outlier_points\n",
    "colors = gt_outlier_colors\n",
    "best_inliers = U.ransac_line_fit(vertices, colors, n_iterations, threshold_distance, threshold_color)\n",
    "\n",
    "# Access the inlier points from the point cloud\n",
    "gt_inlier_points2 = vertices[best_inliers]\n",
    "gt_inlier_colors2 = colors[best_inliers]\n",
    "print(\"inlier points shape: \", gt_inlier_points.shape)\n",
    "print(\"inlier colors shape: \", gt_inlier_colors.shape)\n",
    "\n",
    "# Access the outlier points from the point cloud\n",
    "outliers_indecies = np.delete(np.arange(vertices.shape[0]), best_inliers)\n",
    "gt_outlier_points2 = vertices[outliers_indecies]\n",
    "gt_outlier_colors2 = colors[outliers_indecies]\n",
    "print(\"outlier points shape: \", gt_outlier_points2.shape)\n",
    "print(\"outlier colors shape: \", gt_outlier_colors2.shape)\n",
    "\n",
    "gt_total_inlier_points = np.vstack((gt_total_inlier_points, gt_inlier_points2))\n",
    "gt_total_inlier_colors = np.vstack((gt_total_inlier_colors, gt_inlier_colors2))\n",
    "gt_total_outlier_points = gt_outlier_points2\n",
    "gt_total_outlier_colors = gt_outlier_colors2\n",
    "\n",
    "# save inlier points and colors\n",
    "np.save('../pointcloud/gt_planes.npy', gt_total_inlier_points)\n",
    "np.save('../pointcloud/gt_planes_colors.npy', gt_total_inlier_colors)\n",
    "\n",
    "# save outlier points and colors\n",
    "np.save('../pointcloud/gt_objects.npy', gt_total_outlier_points)\n",
    "np.save('../pointcloud/gt_objects_colors.npy', gt_total_outlier_colors)\n"
   ]
  },
  {
   "cell_type": "code",
   "execution_count": 425,
   "metadata": {},
   "outputs": [
    {
     "name": "stdout",
     "output_type": "stream",
     "text": [
      "(188306, 3)\n",
      "(188306, 3)\n"
     ]
    }
   ],
   "source": [
    "# load my pointcloud\n",
    "vertices = np.load('../pointcloud/vertices.npy')\n",
    "colors = np.load('../pointcloud/colors.npy')\n",
    "\n",
    "print(vertices.shape)\n",
    "print(colors.shape)"
   ]
  },
  {
   "cell_type": "code",
   "execution_count": 426,
   "metadata": {},
   "outputs": [
    {
     "name": "stdout",
     "output_type": "stream",
     "text": [
      "inlier points shape:  (41639, 3)\n",
      "inlier colors shape:  (41639, 3)\n",
      "outlier points shape:  (146667, 3)\n",
      "outlier colors shape:  (146667, 3)\n",
      "possible neighbor inlier points after color comparison: (146667,)\n",
      "neighbors_inlier_indicies shape:  (20788,)\n",
      "inlier points shape:  (22645, 3)\n",
      "inlier colors shape:  (22645, 3)\n"
     ]
    }
   ],
   "source": [
    "# ===================== MY POINTCLOUD =====================\n",
    "\n",
    "# wall plane\n",
    "n_iterations = 1200\n",
    "\n",
    "threshold_distance = 20  # Define a threshold distance to consider a point as an inlier\n",
    "\n",
    "my_total_inlier_points = np.array([])\n",
    "my_total_inlier_colors = np.array([])\n",
    "\n",
    "\n",
    "# Run the RANSAC algorithm\n",
    "best_plane, best_inliers = U.ransac_plane_fit(vertices, n_iterations, threshold_distance)\n",
    "\n",
    "# Access the inlier points from the point cloud\n",
    "my_inlier_points = vertices[best_inliers]\n",
    "my_inlier_colors = colors[best_inliers]\n",
    "print(\"inlier points shape: \", my_inlier_points.shape)\n",
    "print(\"inlier colors shape: \", my_inlier_colors.shape)\n",
    "\n",
    "\n",
    "# Access the outlier points from the point cloud\n",
    "outliers_indecies = np.delete(np.arange(vertices.shape[0]), best_inliers)\n",
    "my_outlier_points = vertices[outliers_indecies]\n",
    "my_outlier_colors = colors[outliers_indecies]\n",
    "print(\"outlier points shape: \", my_outlier_points.shape)\n",
    "print(\"outlier colors shape: \", my_outlier_colors.shape)\n",
    "\n",
    "n_iterations = 1000\n",
    "threshold_distance = 100\n",
    "color_threshold_distance = 20\n",
    "neighbors_inlier_indicies, my_outlier_points, my_outlier_colors = U.neighbors_inlier(my_inlier_points,my_outlier_points,my_inlier_colors, my_outlier_colors, n_iterations, threshold_distance, color_threshold_distance)\n",
    "print(\"neighbors_inlier_indicies shape: \", neighbors_inlier_indicies.shape)\n",
    "\n",
    "# append each point to total points\n",
    "neighbors_inlier_points = my_outlier_points[neighbors_inlier_indicies]\n",
    "neighbors_inlier_colors = my_outlier_colors[neighbors_inlier_indicies]\n",
    "\n",
    "# trasnfom best inlier color to red \n",
    "# my_inlier_colors[:,0] = 1\n",
    "# my_inlier_colors[:,1] = 0\n",
    "# my_inlier_colors[:,2] = 0\n",
    "\n",
    "# transform neightbours inlier color to green\n",
    "# neighbors_inlier_colors[:,0] = 0\n",
    "# neighbors_inlier_colors[:,1] = 1\n",
    "# neighbors_inlier_colors[:,2] = 0\n",
    "\n",
    "my_inlier_points1 = np.vstack((my_inlier_points, neighbors_inlier_points))\n",
    "my_inlier_colors1 = np.vstack((my_inlier_colors, neighbors_inlier_colors))\n",
    "my_total_inlier_points = my_inlier_points1\n",
    "my_total_inlier_colors = my_inlier_colors1\n",
    "\n",
    "my_outlier_points = np.delete(my_outlier_points, neighbors_inlier_indicies, axis=0)\n",
    "my_outlier_colors = np.delete(my_outlier_colors, neighbors_inlier_indicies, axis=0)\n",
    "\n",
    "\n",
    "# road plane\n",
    "threshold_distance = 10\n",
    "n_iterations = 1200\n",
    "vertices = my_outlier_points\n",
    "colors = my_outlier_colors\n",
    "best_plane, best_inliers = U.ransac_plane_fit(vertices, n_iterations, threshold_distance)\n",
    "\n",
    "# Access the inlier points from the point cloud\n",
    "my_inlier_points2 = vertices[best_inliers]\n",
    "my_inlier_colors2 = colors[best_inliers]\n",
    "\n",
    "# inlier_colors[:,0] = 0\n",
    "# inlier_colors[:,1] = 0\n",
    "# inlier_colors[:,2] = 1\n",
    "\n",
    "print(\"inlier points shape: \", my_inlier_points2.shape)\n",
    "print(\"inlier colors shape: \", my_inlier_colors2.shape)\n",
    "\n",
    "my_total_inlier_points = np.vstack((my_total_inlier_points, my_inlier_points2))\n",
    "my_total_inlier_colors = np.vstack((my_total_inlier_colors, my_inlier_colors2))\n",
    "\n",
    "my_outlier_points = np.delete(my_outlier_points, best_inliers, axis=0)\n",
    "my_outlier_colors = np.delete(my_outlier_colors, best_inliers, axis=0)\n",
    "\n",
    "# # save inlier points and colors\n",
    "np.save('../pointcloud/my_planes.npy', my_total_inlier_points)\n",
    "np.save('../pointcloud/my_planes_colors.npy', my_total_inlier_colors)\n",
    "\n",
    "# save outlier points and colors\n",
    "np.save('../pointcloud/my_objects.npy', my_outlier_points)\n",
    "np.save('../pointcloud/my_objects_colors.npy', my_outlier_colors)\n"
   ]
  },
  {
   "cell_type": "code",
   "execution_count": 427,
   "metadata": {},
   "outputs": [
    {
     "name": "stdout",
     "output_type": "stream",
     "text": [
      "(47882, 3)\n",
      "(47882, 3)\n"
     ]
    }
   ],
   "source": [
    "# ===================== GROUND TRUTH POINTCLOUD =====================\n",
    "# import pointcloud as pc\n",
    "vertices = np.load('../pointcloud/gt_objects.npy')\n",
    "colors = np.load('../pointcloud/gt_objects_colors.npy')\n",
    "\n",
    "print(vertices.shape)\n",
    "print(colors.shape)"
   ]
  },
  {
   "cell_type": "code",
   "execution_count": 428,
   "metadata": {},
   "outputs": [],
   "source": [
    "# label 0 -> color green\n",
    "# label 1 -> color red\n",
    "# label 2 -> color blue\n",
    "# label 3 -> color yellow\n",
    "# label 4 -> color pink\n",
    "# label 5 -> color cyan\n",
    "# label 6 -> color orange\n",
    "# label 7 -> color purple\n",
    "# label 8 -> color brown\n",
    "# label 9 -> color gray\n",
    "# label 10 -> color white\n",
    "# label 11 -> color black\n",
    "# label 12 -> color light green\n",
    "# label 13 -> color light red\n",
    "# label 14 -> color light blue\n",
    "# label 15 -> color light yellow\n",
    "# label 16 -> color light pink\n",
    "# label 17 -> color light cyan\n",
    "# label 18 -> color light orange\n",
    "\n",
    "color_dict = {\n",
    "    0: [0, 1, 0], \n",
    "    1: [1, 0, 0], \n",
    "    2: [0, 0, 1], \n",
    "    3: [1, 1, 0], \n",
    "    4: [1, 0, 1], \n",
    "    5: [0, 1, 1], \n",
    "    6: [1, 0.5, 0],\n",
    "    7: [0.5, 0, 1],\n",
    "    8: [0.5, 0.25, 0],\n",
    "    9: [0.5, 0.5, 0.5],\n",
    "    10: [1, 1, 1],\n",
    "    11: [0, 0, 0],\n",
    "    12: [0.5, 1, 0],\n",
    "    13: [1, 0.5, 0.5],\n",
    "    14: [0.5, 0.5, 1],\n",
    "    15: [1, 1, 0.5],\n",
    "    16: [1, 0.5, 1],\n",
    "    17: [0.5, 1, 1],\n",
    "    18: [1, 0.75, 0]\n",
    "}"
   ]
  },
  {
   "cell_type": "code",
   "execution_count": 429,
   "metadata": {},
   "outputs": [
    {
     "name": "stdout",
     "output_type": "stream",
     "text": [
      "Number of clusters: 3\n",
      "Total number of clustered vertices: (23823, 3)\n",
      "Cluster 0: 11279\n",
      "Cluster 1: 5799\n",
      "Cluster 2: 6745\n"
     ]
    }
   ],
   "source": [
    "from sklearn.cluster import DBSCAN\n",
    "\n",
    "# Compute 1st DBSCAN for identifying objetcs\n",
    "db = DBSCAN(eps=1000, min_samples=4000).fit(vertices)\n",
    "labels = db.labels_\n",
    "first_clustering_vertices = vertices[labels > -1]\n",
    "first_clustering_colors = colors[labels > -1]\n",
    "\n",
    "n_clusters = len(set(labels)) - (1 if -1 in labels else 0)\n",
    "\n",
    "print(\"Number of clusters:\", n_clusters)\n",
    "print(\"Total number of clustered vertices:\",first_clustering_vertices.shape)\n",
    "\n",
    "# Count the length of each cluster\n",
    "unique_labels, cluster_counts = np.unique(labels, return_counts=True)\n",
    "\n",
    "# print the length of each cluster\n",
    "for label, count in zip(unique_labels, cluster_counts):\n",
    "    if label != -1:  # Exclude the outlier label (-1)\n",
    "        print(\"Cluster {}: {}\".format(label, count))\n",
    "\n",
    "# Create an array for all clustered points\n",
    "unique_colors = np.zeros((first_clustering_vertices.shape[0], 3))\n",
    "\n",
    "\n",
    "i = 0\n",
    "for point in range(vertices.shape[0]):\n",
    "    # get the label of the point\n",
    "    label = labels[point]\n",
    "    if label == -1:\n",
    "        continue\n",
    "    # get the color of the label\n",
    "    color = color_dict[label]\n",
    "    # assign the color to the point\n",
    "    unique_colors[i] = color\n",
    "    i += 1\n",
    "\n",
    "gt_vertices_clusters = []\n",
    "gt_colors_clusters = []\n",
    "for i in range (n_clusters):\n",
    "    cluster_v = np.array([])  \n",
    "    cluster_c = np.array([])\n",
    "    for point in range(vertices.shape[0]):\n",
    "        # get the label of the point\n",
    "        label = labels[point]\n",
    "        if label == -1:\n",
    "            continue\n",
    "        # append the point to the cluster\n",
    "        if label == i:\n",
    "            cluster_v = np.concatenate((cluster_v, vertices[point]))\n",
    "            cluster_c = np.concatenate((cluster_c, colors[point]))\n",
    "\n",
    "    # append cluster_v to gt_vertices_clusters\n",
    "    gt_vertices_clusters.append(cluster_v.reshape(-1,3))\n",
    "    gt_colors_clusters.append(cluster_c.reshape(-1,3))"
   ]
  },
  {
   "cell_type": "code",
   "execution_count": 430,
   "metadata": {},
   "outputs": [],
   "source": [
    "np.save('../pointcloud/gt_objects_clustered.npy', first_clustering_vertices)\n",
    "np.save('../pointcloud/gt_objects_colors_clustered.npy', first_clustering_colors)"
   ]
  },
  {
   "cell_type": "code",
   "execution_count": 431,
   "metadata": {},
   "outputs": [
    {
     "name": "stdout",
     "output_type": "stream",
     "text": [
      "remaining vertices after 1st clustering shape:  (24059, 3)\n"
     ]
    }
   ],
   "source": [
    "# remove the objects (first clusteriing) from the vertices and colors\n",
    "remaining_vertices = vertices[labels == -1]\n",
    "remaining_colors = colors[labels == -1]\n",
    "print(\"remaining vertices after 1st clustering shape: \", remaining_vertices.shape)"
   ]
  },
  {
   "cell_type": "code",
   "execution_count": 432,
   "metadata": {},
   "outputs": [],
   "source": [
    "np.save('../pointcloud/gt_objects_clustered.npy', remaining_vertices)\n",
    "np.save('../pointcloud/gt_objects_colors_clustered.npy', remaining_colors)"
   ]
  },
  {
   "cell_type": "code",
   "execution_count": 433,
   "metadata": {},
   "outputs": [
    {
     "name": "stdout",
     "output_type": "stream",
     "text": [
      "Number of clusters: 4\n",
      "Total number of clustered vertices: (13356, 3)\n",
      "Cluster 0: 2547\n",
      "Cluster 1: 1332\n",
      "Cluster 2: 7169\n",
      "Cluster 3: 2308\n"
     ]
    }
   ],
   "source": [
    "# Compute 2nd DBSCAN for adentify objects\n",
    "db = DBSCAN(eps=1000, min_samples=1000).fit(remaining_vertices)\n",
    "\n",
    "labels = db.labels_\n",
    "second_clustering_vertices = remaining_vertices[labels > -1]\n",
    "second_clustering_colors = remaining_colors[labels > -1]\n",
    "\n",
    "n_clusters = len(set(labels)) - (1 if -1 in labels else 0)\n",
    "\n",
    "print(\"Number of clusters:\", n_clusters)\n",
    "print(\"Total number of clustered vertices:\",second_clustering_vertices.shape)\n",
    "\n",
    "# Count the length of each cluster\n",
    "unique_labels, cluster_counts = np.unique(labels, return_counts=True)\n",
    "\n",
    "# print the length of each cluster\n",
    "for label, count in zip(unique_labels, cluster_counts):\n",
    "    if label != -1:  # Exclude the outlier label (-1)\n",
    "        print(\"Cluster {}: {}\".format(label, count))\n",
    "\n",
    "# Create an array for all clustered points\n",
    "unique_colors = np.zeros((second_clustering_vertices.shape[0], 3))\n",
    "\n",
    "i = 0\n",
    "for point in range(remaining_vertices.shape[0]):\n",
    "    # get the label of the point\n",
    "    label = labels[point]\n",
    "    if label == -1:\n",
    "        continue\n",
    "    # get the color of the label\n",
    "    color = color_dict[label]\n",
    "    # assign the color to the point\n",
    "    unique_colors[i] = color\n",
    "    i += 1\n",
    "\n",
    "for i in range (n_clusters):\n",
    "    cluster_v = np.array([])  \n",
    "    cluster_c = np.array([])\n",
    "    for point in range(remaining_vertices.shape[0]):\n",
    "        # get the label of the point\n",
    "        label = labels[point]\n",
    "        if label == -1:\n",
    "            continue\n",
    "        # append the point to the cluster\n",
    "        if label == i:\n",
    "            cluster_v = np.concatenate((cluster_v, remaining_vertices[point]))\n",
    "            cluster_c = np.concatenate((cluster_c, remaining_colors[point]))\n",
    "\n",
    "    # append cluster_v to gt_vertices_clusters\n",
    "    gt_vertices_clusters.append(cluster_v.reshape(-1,3))\n",
    "    gt_colors_clusters.append(cluster_c.reshape(-1,3))"
   ]
  },
  {
   "cell_type": "code",
   "execution_count": 434,
   "metadata": {},
   "outputs": [],
   "source": [
    "np.save('../pointcloud/gt_objects_clustered.npy', second_clustering_vertices)\n",
    "np.save('../pointcloud/gt_objects_colors_clustered.npy', second_clustering_colors)"
   ]
  },
  {
   "cell_type": "code",
   "execution_count": 435,
   "metadata": {},
   "outputs": [
    {
     "name": "stdout",
     "output_type": "stream",
     "text": [
      "remaining vertices after 3rd clustering shape:  (10703, 3)\n"
     ]
    }
   ],
   "source": [
    "# remaining points after 3rd clustering\n",
    "remaining_vertices2 = remaining_vertices[labels == -1]\n",
    "remaining_colors2 = remaining_colors[labels == -1]\n",
    "\n",
    "print(\"remaining vertices after 3rd clustering shape: \", remaining_vertices2.shape)"
   ]
  },
  {
   "cell_type": "code",
   "execution_count": 436,
   "metadata": {},
   "outputs": [],
   "source": [
    "np.save('../pointcloud/gt_objects_clustered.npy', remaining_vertices2)\n",
    "np.save('../pointcloud/gt_objects_colors_clustered.npy', remaining_colors2)"
   ]
  },
  {
   "cell_type": "code",
   "execution_count": 437,
   "metadata": {},
   "outputs": [
    {
     "name": "stdout",
     "output_type": "stream",
     "text": [
      "Number of clusters: 2\n",
      "Total number of clustered vertices: (957, 3)\n",
      "Cluster 0: 633\n",
      "Cluster 1: 324\n"
     ]
    }
   ],
   "source": [
    "# Compute DBSCAN for adentify objects\n",
    "db = DBSCAN(eps=500, min_samples=300).fit(remaining_vertices2)\n",
    "\n",
    "labels = db.labels_\n",
    "third_clustering_vertices = remaining_vertices2[labels > -1]\n",
    "third_clustering_colors = remaining_colors2[labels > -1]\n",
    "\n",
    "n_clusters = len(set(labels)) - (1 if -1 in labels else 0)\n",
    "\n",
    "print(\"Number of clusters:\", n_clusters)\n",
    "print(\"Total number of clustered vertices:\",third_clustering_vertices.shape)\n",
    "\n",
    "# Count the length of each cluster\n",
    "unique_labels, cluster_counts = np.unique(labels, return_counts=True)\n",
    "\n",
    "# print the length of each cluster\n",
    "for label, count in zip(unique_labels, cluster_counts):\n",
    "    if label != -1:  # Exclude the outlier label (-1)\n",
    "        print(\"Cluster {}: {}\".format(label, count))\n",
    "\n",
    "# Create an array for all clustered points\n",
    "unique_colors = np.zeros((third_clustering_vertices.shape[0], 3))\n",
    "\n",
    "i = 0\n",
    "for point in range(remaining_vertices2.shape[0]):\n",
    "    # get the label of the point\n",
    "    label = labels[point]\n",
    "    if label == -1:\n",
    "        continue\n",
    "    # get the color of the label\n",
    "    color = color_dict[label]\n",
    "    # assign the color to the point\n",
    "    unique_colors[i] = color\n",
    "    i += 1\n",
    "\n",
    "for i in range (n_clusters):\n",
    "    cluster_v = np.array([])  \n",
    "    cluster_c = np.array([])\n",
    "    for point in range(remaining_vertices2.shape[0]):\n",
    "        # get the label of the point\n",
    "        label = labels[point]\n",
    "        if label == -1:\n",
    "            continue\n",
    "        # append the point to the cluster\n",
    "        if label == i:\n",
    "            cluster_v = np.concatenate((cluster_v, remaining_vertices2[point]))\n",
    "            cluster_c = np.concatenate((cluster_c, remaining_colors2[point]))\n",
    "\n",
    "    # append cluster_v to gt_vertices_clusters\n",
    "    gt_vertices_clusters.append(cluster_v.reshape(-1,3))\n",
    "    gt_colors_clusters.append(cluster_c.reshape(-1,3))"
   ]
  },
  {
   "cell_type": "code",
   "execution_count": 438,
   "metadata": {},
   "outputs": [],
   "source": [
    "np.save('../pointcloud/gt_objects_clustered.npy', third_clustering_vertices)\n",
    "np.save('../pointcloud/gt_objects_colors_clustered.npy', unique_colors)"
   ]
  },
  {
   "cell_type": "code",
   "execution_count": 439,
   "metadata": {},
   "outputs": [
    {
     "name": "stdout",
     "output_type": "stream",
     "text": [
      "total vertices shape:  (38136, 3)\n"
     ]
    }
   ],
   "source": [
    "# add all the objects together\n",
    "\n",
    "gt_total_vertices = np.vstack((first_clustering_vertices, second_clustering_vertices, third_clustering_vertices))\n",
    "gt_total_colors = np.vstack((first_clustering_colors, second_clustering_colors, third_clustering_colors))\n",
    "\n",
    "print(\"total vertices shape: \", gt_total_vertices.shape)"
   ]
  },
  {
   "cell_type": "code",
   "execution_count": 440,
   "metadata": {},
   "outputs": [
    {
     "name": "stdout",
     "output_type": "stream",
     "text": [
      "total vertices shape:  (81380, 3)\n"
     ]
    }
   ],
   "source": [
    "# add the planes to the total vertices\n",
    "gt_total_vertices = np.vstack((gt_total_vertices, gt_total_inlier_points))\n",
    "gt_total_colors = np.vstack((gt_total_colors, gt_total_inlier_colors))\n",
    "\n",
    "print(\"total vertices shape: \", gt_total_vertices.shape)"
   ]
  },
  {
   "cell_type": "code",
   "execution_count": 441,
   "metadata": {},
   "outputs": [],
   "source": [
    "np.save('../pointcloud/gt_objects_clustered.npy', gt_total_vertices)\n",
    "np.save('../pointcloud/gt_objects_colors_clustered.npy', gt_total_colors)"
   ]
  },
  {
   "cell_type": "code",
   "execution_count": 442,
   "metadata": {},
   "outputs": [],
   "source": [
    "# append the planes to the gt_vertices_clusters\n",
    "gt_vertices_clusters.append(gt_inlier_points)\n",
    "gt_colors_clusters.append(gt_inlier_colors)\n",
    "gt_vertices_clusters.append(gt_inlier_points2)\n",
    "gt_colors_clusters.append(gt_inlier_colors2)"
   ]
  },
  {
   "cell_type": "code",
   "execution_count": 443,
   "metadata": {},
   "outputs": [
    {
     "name": "stdout",
     "output_type": "stream",
     "text": [
      "number of clusters: 11\n"
     ]
    }
   ],
   "source": [
    "# print the num of clusters\n",
    "print(\"number of clusters:\", len(gt_vertices_clusters))"
   ]
  },
  {
   "cell_type": "code",
   "execution_count": 444,
   "metadata": {},
   "outputs": [],
   "source": [
    "cluster = 4\n",
    "np.save('../pointcloud/gt_objects_clustered.npy', gt_vertices_clusters[cluster])\n",
    "np.save('../pointcloud/gt_objects_colors_clustered.npy', gt_colors_clusters[cluster])"
   ]
  },
  {
   "cell_type": "code",
   "execution_count": 445,
   "metadata": {},
   "outputs": [],
   "source": [
    "# save each cluster\n",
    "directory = \"../clusters\".format(cluster)\n",
    "os.makedirs(directory, exist_ok=True)\n",
    "directory = \"../clusters/gt_clusters\".format(cluster)\n",
    "os.makedirs(directory, exist_ok=True)\n",
    "\n",
    "for i in range(len(gt_vertices_clusters)):\n",
    "    directory = \"../clusters/gt_clusters/cluster_{}\".format(i)\n",
    "    os.makedirs(directory, exist_ok=True)\n",
    "    \n",
    "    np.save('../clusters/gt_clusters/cluster_' + str(i) + '/vertices.npy', gt_vertices_clusters[i])\n",
    "    np.save('../clusters/gt_clusters/cluster_' + str(i) + '/colors.npy', gt_colors_clusters[i])"
   ]
  },
  {
   "cell_type": "code",
   "execution_count": 446,
   "metadata": {},
   "outputs": [
    {
     "name": "stdout",
     "output_type": "stream",
     "text": [
      "(103234, 3)\n",
      "(103234, 3)\n"
     ]
    }
   ],
   "source": [
    "# ===================== MY POINTCLOUD =====================\n",
    "vertices = np.load('../pointcloud/my_objects.npy')\n",
    "colors = np.load('../pointcloud/my_objects_colors.npy')\n",
    "\n",
    "print(vertices.shape)\n",
    "print(colors.shape)"
   ]
  },
  {
   "cell_type": "code",
   "execution_count": 447,
   "metadata": {},
   "outputs": [
    {
     "name": "stdout",
     "output_type": "stream",
     "text": [
      "Number of clusters: 2\n",
      "Total number of clustered vertices: (26573, 3)\n",
      "Cluster 0: 13157\n",
      "Cluster 1: 13416\n"
     ]
    }
   ],
   "source": [
    "# DBSCAN for clustering the objects\n",
    "# 50, 4500 -> ένα αντικείμενο\n",
    "db = DBSCAN(eps=50, min_samples=4500).fit(vertices)\n",
    "labels = db.labels_\n",
    "first_clustering_vertices = vertices[labels > -1]\n",
    "first_clustering_colors = colors[labels > -1]\n",
    "\n",
    "n_clusters = len(set(labels)) - (1 if -1 in labels else 0)\n",
    "\n",
    "print(\"Number of clusters:\", n_clusters)\n",
    "print(\"Total number of clustered vertices:\",first_clustering_vertices.shape)\n",
    "\n",
    "# Count the length of each cluster\n",
    "unique_labels, cluster_counts = np.unique(labels, return_counts=True)\n",
    "\n",
    "# print the length of each cluster\n",
    "for label, count in zip(unique_labels, cluster_counts):\n",
    "    if label != -1:  # Exclude the outlier label (-1)\n",
    "        print(\"Cluster {}: {}\".format(label, count))\n",
    "\n",
    "# Create an array for all clustered points\n",
    "unique_colors = np.zeros((first_clustering_vertices.shape[0], 3))\n",
    "\n",
    "i = 0\n",
    "for point in range(vertices.shape[0]):\n",
    "    # get the label of the point\n",
    "    label = labels[point]\n",
    "    if label == -1:\n",
    "        continue\n",
    "    # get the color of the label\n",
    "    color = color_dict[label]\n",
    "    # assign the color to the point\n",
    "    unique_colors[i] = color\n",
    "    i += 1\n",
    "\n",
    "my_vertices_clusters = []\n",
    "my_colors_clusters = []\n",
    "for i in range(n_clusters):\n",
    "    cluster_v = np.array([])\n",
    "    cluster_c = np.array([])\n",
    "    for point in range(vertices.shape[0]):\n",
    "        # get the label of the point\n",
    "        label = labels[point]\n",
    "        if label == -1:\n",
    "            continue\n",
    "        # append the point to the cluster\n",
    "        if label == i:\n",
    "            cluster_v = np.concatenate((cluster_v, vertices[point]))\n",
    "            cluster_c = np.concatenate((cluster_c, colors[point]))\n",
    "    \n",
    "    # append cluster_v to my_vertices_clusters\n",
    "    my_vertices_clusters.append(cluster_v.reshape(-1,3))\n",
    "    my_colors_clusters.append(cluster_c.reshape(-1,3))\n",
    "    \n"
   ]
  },
  {
   "cell_type": "code",
   "execution_count": 448,
   "metadata": {},
   "outputs": [],
   "source": [
    "np.save('../pointcloud/my_objects_clustered.npy', first_clustering_vertices)\n",
    "np.save('../pointcloud/my_objects_colors_clustered.npy', first_clustering_colors)\n",
    "# np.save('../pointcloud/my_objects_colors_clustered.npy', unique_colors)"
   ]
  },
  {
   "cell_type": "code",
   "execution_count": 449,
   "metadata": {},
   "outputs": [
    {
     "name": "stdout",
     "output_type": "stream",
     "text": [
      "remaining vertices after 1st clustering shape:  (76661, 3)\n"
     ]
    }
   ],
   "source": [
    "remaining_vertices = vertices[labels == -1]\n",
    "remaining_colors = colors[labels == -1]\n",
    "print(\"remaining vertices after 1st clustering shape: \", remaining_vertices.shape)"
   ]
  },
  {
   "cell_type": "code",
   "execution_count": 450,
   "metadata": {},
   "outputs": [],
   "source": [
    "np.save('../pointcloud/my_objects_clustered.npy', remaining_vertices)\n",
    "np.save('../pointcloud/my_objects_colors_clustered.npy', remaining_colors)"
   ]
  },
  {
   "cell_type": "code",
   "execution_count": 451,
   "metadata": {},
   "outputs": [
    {
     "name": "stdout",
     "output_type": "stream",
     "text": [
      "Number of clusters: 2\n",
      "Total number of clustered vertices: (14167, 3)\n",
      "Cluster 0: 5195\n",
      "Cluster 1: 8972\n"
     ]
    }
   ],
   "source": [
    "# DBSCAN for clustering the objects\n",
    "db = DBSCAN(eps=50, min_samples=2500).fit(remaining_vertices)\n",
    "\n",
    "labels = db.labels_\n",
    "second_clustering_vertices = remaining_vertices[labels > -1]\n",
    "second_clustering_colors = remaining_colors[labels > -1]\n",
    "\n",
    "n_clusters = len(set(labels)) - (1 if -1 in labels else 0)\n",
    "\n",
    "print(\"Number of clusters:\", n_clusters)\n",
    "print(\"Total number of clustered vertices:\",second_clustering_vertices.shape)\n",
    "\n",
    "# Count the length of each cluster\n",
    "unique_labels, cluster_counts = np.unique(labels, return_counts=True)\n",
    "\n",
    "# print the length of each cluster\n",
    "for label, count in zip(unique_labels, cluster_counts):\n",
    "    if label != -1:  # Exclude the outlier label (-1)\n",
    "        print(\"Cluster {}: {}\".format(label, count))\n",
    "\n",
    "# Create an array for all clustered points\n",
    "unique_colors = np.zeros((second_clustering_vertices.shape[0], 3))\n",
    "\n",
    "i = 0\n",
    "for point in range(remaining_vertices.shape[0]):\n",
    "    # get the label of the point\n",
    "    label = labels[point]\n",
    "    if label == -1:\n",
    "        continue\n",
    "    # get the color of the label\n",
    "    color = color_dict[label]\n",
    "    # assign the color to the point\n",
    "    unique_colors[i] = color\n",
    "    i += 1\n",
    "\n",
    "for i in range(n_clusters):\n",
    "    cluster_v = np.array([])\n",
    "    cluster_c = np.array([])\n",
    "    for point in range(remaining_vertices.shape[0]):\n",
    "        # get the label of the point\n",
    "        label = labels[point]\n",
    "        if label == -1:\n",
    "            continue\n",
    "        # append the point to the cluster\n",
    "        if label == i:\n",
    "            cluster_v = np.concatenate((cluster_v, remaining_vertices[point]))\n",
    "            cluster_c = np.concatenate((cluster_c, remaining_colors[point]))\n",
    "    \n",
    "    # append cluster_v to my_vertices_clusters\n",
    "    my_vertices_clusters.append(cluster_v.reshape(-1,3))\n",
    "    my_colors_clusters.append(cluster_c.reshape(-1,3))\n"
   ]
  },
  {
   "cell_type": "code",
   "execution_count": 452,
   "metadata": {},
   "outputs": [],
   "source": [
    "np.save('../pointcloud/my_objects_clustered.npy', second_clustering_vertices)\n",
    "np.save('../pointcloud/my_objects_colors_clustered.npy', second_clustering_colors)\n",
    "# np.save('../pointcloud/my_objects_colors_clustered.npy', unique_colors)"
   ]
  },
  {
   "cell_type": "code",
   "execution_count": 453,
   "metadata": {},
   "outputs": [
    {
     "name": "stdout",
     "output_type": "stream",
     "text": [
      "remaining vertices after 3rd clustering shape:  (62494, 3)\n"
     ]
    }
   ],
   "source": [
    "remaining_vertices2 = remaining_vertices[labels == -1]\n",
    "remaining_colors2 = remaining_colors[labels == -1]\n",
    "print(\"remaining vertices after 3rd clustering shape: \", remaining_vertices2.shape)"
   ]
  },
  {
   "cell_type": "code",
   "execution_count": 454,
   "metadata": {},
   "outputs": [],
   "source": [
    "np.save('../pointcloud/my_objects_clustered.npy', remaining_vertices2)\n",
    "np.save('../pointcloud/my_objects_colors_clustered.npy', remaining_colors2)"
   ]
  },
  {
   "cell_type": "code",
   "execution_count": 455,
   "metadata": {},
   "outputs": [
    {
     "name": "stdout",
     "output_type": "stream",
     "text": [
      "Number of clusters: 3\n",
      "Total number of clustered vertices: (15256, 3)\n",
      "Cluster 0: 6990\n",
      "Cluster 1: 5085\n",
      "Cluster 2: 3181\n"
     ]
    }
   ],
   "source": [
    "# 3rd DBSCAN for clustering the objects\n",
    "db = DBSCAN(eps=70, min_samples=3000).fit(remaining_vertices2)\n",
    "\n",
    "labels = db.labels_\n",
    "third_clustering_vertices = remaining_vertices2[labels>-1]\n",
    "third_clustering_colors = remaining_colors2[labels > -1]\n",
    "\n",
    "n_clusters = len(set(labels)) - (1 if -1 in labels else 0)\n",
    "\n",
    "print(\"Number of clusters:\", n_clusters)\n",
    "print(\"Total number of clustered vertices:\",third_clustering_vertices.shape)\n",
    "\n",
    "# Count the length of each cluster\n",
    "unique_labels, cluster_counts = np.unique(labels, return_counts=True)\n",
    "\n",
    "# print the length of each cluster\n",
    "for label, count in zip(unique_labels, cluster_counts):\n",
    "    if label != -1:  # Exclude the outlier label (-1)\n",
    "        print(\"Cluster {}: {}\".format(label, count))\n",
    "\n",
    "# Create an array for all clustered points\n",
    "unique_colors = np.zeros((third_clustering_vertices.shape[0], 3))\n",
    "\n",
    "i = 0\n",
    "for point in range(remaining_vertices2.shape[0]):\n",
    "    # get the label of the point\n",
    "    label = labels[point]\n",
    "    if label == -1:\n",
    "        continue\n",
    "    # get the color of the label\n",
    "    color = color_dict[label]\n",
    "    # assign the color to the point\n",
    "    unique_colors[i] = color\n",
    "    i += 1\n",
    "\n",
    "for i in range(n_clusters):\n",
    "    cluster_v = np.array([])\n",
    "    cluster_c = np.array([])\n",
    "    for point in range(remaining_vertices2.shape[0]):\n",
    "        # get the label of the point\n",
    "        label = labels[point]\n",
    "        if label == -1:\n",
    "            continue\n",
    "        # append the point to the cluster\n",
    "        if label == i:\n",
    "            cluster_v = np.concatenate((cluster_v, remaining_vertices2[point]))\n",
    "            cluster_c = np.concatenate((cluster_c, remaining_colors2[point]))\n",
    "    \n",
    "    # append cluster_v to my_vertices_clusters\n",
    "    my_vertices_clusters.append(cluster_v.reshape(-1,3))\n",
    "    my_colors_clusters.append(cluster_c.reshape(-1,3))\n"
   ]
  },
  {
   "cell_type": "code",
   "execution_count": 456,
   "metadata": {},
   "outputs": [],
   "source": [
    "np.save('../pointcloud/my_objects_clustered.npy', third_clustering_vertices)\n",
    "np.save('../pointcloud/my_objects_colors_clustered.npy', third_clustering_colors)\n",
    "# np.save('../pointcloud/my_objects_colors_clustered.npy', unique_colors)"
   ]
  },
  {
   "cell_type": "code",
   "execution_count": 457,
   "metadata": {},
   "outputs": [],
   "source": [
    "remaining_vertices3 = remaining_vertices2[labels==-1]\n",
    "remaining_colors3 = remaining_colors2[labels==-1]\n",
    "np.save('../pointcloud/my_objects_clustered.npy', remaining_vertices3)\n",
    "np.save('../pointcloud/my_objects_colors_clustered.npy', remaining_colors3)"
   ]
  },
  {
   "cell_type": "code",
   "execution_count": 458,
   "metadata": {},
   "outputs": [
    {
     "name": "stdout",
     "output_type": "stream",
     "text": [
      "9\n"
     ]
    }
   ],
   "source": [
    "# append the planes to the my_vertices_clusters\n",
    "my_vertices_clusters.append(my_inlier_points1)\n",
    "my_colors_clusters.append(my_inlier_colors1)\n",
    "my_vertices_clusters.append(my_inlier_points2)\n",
    "my_colors_clusters.append(my_inlier_colors2)\n",
    "print(len(my_vertices_clusters))"
   ]
  },
  {
   "cell_type": "code",
   "execution_count": 459,
   "metadata": {},
   "outputs": [],
   "source": [
    "cluster = 2\n",
    "np.save('../pointcloud/my_objects_clustered.npy', my_vertices_clusters[cluster])\n",
    "np.save('../pointcloud/my_objects_colors_clustered.npy', my_colors_clusters[cluster])"
   ]
  },
  {
   "cell_type": "code",
   "execution_count": 460,
   "metadata": {},
   "outputs": [],
   "source": [
    "# save each cluster\n",
    "directory = \"../clusters/my_clusters\".format(cluster)\n",
    "os.makedirs(directory, exist_ok=True)\n",
    "\n",
    "for i in range(len(my_vertices_clusters)):\n",
    "    directory = \"../clusters/my_clusters/cluster_{}\".format(i)\n",
    "    os.makedirs(directory, exist_ok=True)\n",
    "    \n",
    "    np.save('../clusters/my_clusters/cluster_' + str(i) + '/vertices.npy', my_vertices_clusters[i])\n",
    "    np.save('../clusters/my_clusters/cluster_' + str(i) + '/colors.npy', my_colors_clusters[i])"
   ]
  }
 ],
 "metadata": {
  "kernelspec": {
   "display_name": "compgeo",
   "language": "python",
   "name": "python3"
  },
  "language_info": {
   "codemirror_mode": {
    "name": "ipython",
    "version": 3
   },
   "file_extension": ".py",
   "mimetype": "text/x-python",
   "name": "python",
   "nbconvert_exporter": "python",
   "pygments_lexer": "ipython3",
   "version": "3.9.16"
  },
  "orig_nbformat": 4
 },
 "nbformat": 4,
 "nbformat_minor": 2
}
