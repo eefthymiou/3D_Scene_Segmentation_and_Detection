{
 "cells": [
  {
   "cell_type": "code",
   "execution_count": null,
   "metadata": {},
   "outputs": [],
   "source": [
    "# Import Section\n",
    "import cv2 \n",
    "import matplotlib.pyplot as plt\n",
    "from matplotlib.patches import Rectangle\n",
    "import utility as U\n",
    "import numpy as np\n",
    "from tqdm import tqdm\n",
    "from math import tan\n",
    "from matplotlib import pyplot as plt\n",
    "plt.style.use('seaborn')"
   ]
  },
  {
   "cell_type": "code",
   "execution_count": null,
   "metadata": {},
   "outputs": [
    {
     "ename": "",
     "evalue": "",
     "output_type": "error",
     "traceback": [
      "\u001b[1;31mThe Kernel crashed while executing code in the the current cell or a previous cell. Please review the code in the cell(s) to identify a possible cause of the failure. Click <a href='https://aka.ms/vscodeJupyterKernelCrash'>here</a> for more info. View Jupyter <a href='command:jupyter.viewOutput'>log</a> for further details."
     ]
    }
   ],
   "source": [
    "# Setting paths\n",
    "datapath = \"./sample_data/\"\n",
    "left_frame_path = datapath + \"left.ppm\"\n",
    "right_frame_path = datapath + \"right.ppm\"\n",
    "disparity_path = datapath + \"truedisp.pgm\"\n",
    "\n",
    "left_frame_path = \"../data_scene_flow/training/image_2/000182_10.png\"\n",
    "right_frame_path = \"../data_scene_flow/training/image_3/000182_10.png\"\n",
    "\n",
    "left_frame = cv2.imread(left_frame_path, cv2.IMREAD_COLOR)  # Load the image in color mode\n",
    "\n",
    "# Apply fastNlMeansDenoising to the grayscale image\n",
    "left_frame_denoised = cv2.fastNlMeansDenoisingColored(left_frame, None, 11, 6, 7, 21)\n",
    "\n",
    "\n",
    "U.visualize_stereo_frames(left_frame, left_frame_denoised)"
   ]
  }
 ],
 "metadata": {
  "kernelspec": {
   "display_name": "compgeo",
   "language": "python",
   "name": "python3"
  },
  "language_info": {
   "codemirror_mode": {
    "name": "ipython",
    "version": 3
   },
   "file_extension": ".py",
   "mimetype": "text/x-python",
   "name": "python",
   "nbconvert_exporter": "python",
   "pygments_lexer": "ipython3",
   "version": "3.9.16"
  },
  "orig_nbformat": 4
 },
 "nbformat": 4,
 "nbformat_minor": 2
}
